{
 "cells": [
  {
   "cell_type": "markdown",
   "id": "3276fc23",
   "metadata": {},
   "source": [
    "Di bagian ini, saya memanggil beberapa library utama:\n",
    "\n",
    "1. Pandas (pd) → untuk **membaca dan mengelola data dalam bentuk tabel** (*DataFrame*).\n",
    "\n",
    "2. SQLite3 (sqlite3) → agar bisa membuat dan **menjalankan *query* SQL** langsung di dalam Python.\n",
    "\n",
    "3. Seaborn (sns) & Matplotlib (plt) → untuk **membuat visualisasi** data yang informatif dan menarik.\n",
    "\n",
    "4. Tabulate (tabulate) → membantu **menampilkan tabel hasil *query*** dengan format yang rapi di terminal."
   ]
  },
  {
   "cell_type": "code",
   "execution_count": 2,
   "id": "a99fe3ba",
   "metadata": {},
   "outputs": [],
   "source": [
    "import pandas as pd\n",
    "import sqlite3\n",
    "import seaborn as sns\n",
    "import matplotlib.pyplot as plt\n",
    "from tabulate import tabulate"
   ]
  },
  {
   "cell_type": "markdown",
   "id": "c5ba37c5",
   "metadata": {},
   "source": [
    "Penjelasan kode dibawah:\n",
    "===\n",
    "\n",
    "1. file_path → **menyimpan lokasi file CSV**. Huruf r menandakan *raw string* agar tanda \\ pada path tidak menyebabkan error.\n",
    "\n",
    "2. pd.read_csv() → **membaca file CSV** dan menyimpannya ke variabel df dalam bentuk *DataFrame*.\n",
    "\n",
    "3. encoding='utf-16' → memastikan file terbaca dengan benar sesuai format teksnya.\n",
    "\n",
    "4. df.head() → **menampilkan 5 baris pertama** untuk mengecek apakah data berhasil dimuat.\n"
   ]
  },
  {
   "cell_type": "code",
   "execution_count": 3,
   "id": "acdfff13",
   "metadata": {},
   "outputs": [
    {
     "name": "stdout",
     "output_type": "stream",
     "text": [
      "Dataset Berhasil dimuatkan\n",
      "         Unnamed: 0   Calories   Fat (g)   Carb. (g)   Fiber (g)   Protein (g)\n",
      "0      Chonga Bagel        300       5.0          50           3            12\n",
      "1      8-Grain Roll        380       6.0          70           7            10\n",
      "2  Almond Croissant        410      22.0          45           3            10\n",
      "3     Apple Fritter        460      23.0          56           2             7\n",
      "4  Banana Nut Bread        420      22.0          52           2             6\n"
     ]
    }
   ],
   "source": [
    "file_path = r\"C:\\Users\\Acer\\Documents\\Projek Starbuck\\Data\\starbucks_menu_nutrition_food.csv\"\n",
    "\n",
    "df = pd.read_csv(file_path, encoding='utf-16')\n",
    "\n",
    "print(\"Dataset Berhasil dimuatkan\")\n",
    "print(df.head())"
   ]
  },
  {
   "cell_type": "markdown",
   "id": "ed545d05",
   "metadata": {},
   "source": [
    "Penjelasan kode dibawah:\n",
    "===\n",
    "\n",
    "1. df.info() → **menampilkan struktur dataset**, seperti jumlah baris dan kolom, nama kolom, tipe data, dan jumlah nilai non-null (tidak kosong).\n",
    "\n",
    "2. df.isnull().sum() → **menghitung jumlah data kosong** (*missing values*) di setiap kolom.\n",
    "\n",
    "3. Tambahan \"\\n\" hanya digunakan untuk **memberi jarak baris** agar output lebih rapi di terminal.\n",
    "\n",
    "Tujuan membantu memahami bentuk data dan seberapa lengkap isinya sebelum lanjut ke tahap *data cleaning*.\n"
   ]
  },
  {
   "cell_type": "code",
   "execution_count": 4,
   "id": "fe46d4b2",
   "metadata": {},
   "outputs": [
    {
     "name": "stdout",
     "output_type": "stream",
     "text": [
      "Informasi Data:\n",
      "<class 'pandas.core.frame.DataFrame'>\n",
      "RangeIndex: 113 entries, 0 to 112\n",
      "Data columns (total 6 columns):\n",
      " #   Column        Non-Null Count  Dtype  \n",
      "---  ------        --------------  -----  \n",
      " 0   Unnamed: 0    113 non-null    object \n",
      " 1    Calories     113 non-null    int64  \n",
      " 2    Fat (g)      113 non-null    float64\n",
      " 3    Carb. (g)    113 non-null    int64  \n",
      " 4    Fiber (g)    113 non-null    int64  \n",
      " 5    Protein (g)  113 non-null    int64  \n",
      "dtypes: float64(1), int64(4), object(1)\n",
      "memory usage: 5.4+ KB\n",
      "None \n",
      "\n",
      "Missing values per kolom:\n",
      "Unnamed: 0      0\n",
      " Calories       0\n",
      " Fat (g)        0\n",
      " Carb. (g)      0\n",
      " Fiber (g)      0\n",
      " Protein (g)    0\n",
      "dtype: int64 \n",
      "\n"
     ]
    }
   ],
   "source": [
    "#Cek Struktur dan data yang hilang\n",
    "print(\"Informasi Data:\")\n",
    "print(df.info(), \"\\n\")\n",
    "print(\"Missing values per kolom:\")\n",
    "print(df.isnull().sum(), \"\\n\")"
   ]
  },
  {
   "cell_type": "markdown",
   "id": "4a8ae86d",
   "metadata": {},
   "source": [
    "Penjelasan kode dibawah:\n",
    "===\n",
    "\n",
    "1. df.rename(columns={...}, inplace=True) → **mengganti nama kolom** lama menjadi lebih pendek dan konsisten (misalnya \" Fat (g)\" jadi \"Fat_g\").\n",
    "Ini penting karena nama kolom yang mengandung spasi atau tanda kurung bisa menyulitkan saat menjalankan *query* SQL atau analisis lanjutan.\n",
    "\n",
    "2. df.columns → menampilkan daftar nama kolom terbaru setelah perubahan.\n",
    "\n",
    "3. df.head() → menampilkan contoh data untuk memastikan hasil rename sudah benar.\n",
    "\n",
    "4. df.dtypes → **menunjukkan tipe data** dari setiap kolom (misalnya *object, float64, int64*).\n",
    "\n",
    "\n",
    "Langkah ini membuat nama kolom lebih bersih, konsisten, dan mudah diolah untuk analisis"
   ]
  },
  {
   "cell_type": "code",
   "execution_count": 11,
   "id": "6a244e4e",
   "metadata": {},
   "outputs": [
    {
     "name": "stdout",
     "output_type": "stream",
     "text": [
      "Kolom setelah pembersihan:\n",
      "Index(['Item', 'Calories', 'Fat_g', 'Carb_g', 'Fiber_g', 'Protein_g'], dtype='object') \n",
      "\n",
      "Contoh data:\n",
      "               Item  Calories  Fat_g  Carb_g  Fiber_g  Protein_g\n",
      "0      Chonga Bagel       300    5.0      50        3         12\n",
      "1      8-Grain Roll       380    6.0      70        7         10\n",
      "2  Almond Croissant       410   22.0      45        3         10\n",
      "3     Apple Fritter       460   23.0      56        2          7\n",
      "4  Banana Nut Bread       420   22.0      52        2          6 \n",
      "\n",
      "Tipe data per kolom:\n",
      "Item          object\n",
      "Calories       int64\n",
      "Fat_g        float64\n",
      "Carb_g         int64\n",
      "Fiber_g        int64\n",
      "Protein_g      int64\n",
      "dtype: object\n"
     ]
    }
   ],
   "source": [
    "# Ganti nama kolom biar lebih mudah dipakai\n",
    "df.rename(columns={\n",
    "    \"Unnamed: 0\": \"Item\",\n",
    "    \" Calories\": \"Calories\",\n",
    "    \" Fat (g)\": \"Fat_g\",\n",
    "    \" Carb. (g)\": \"Carb_g\",\n",
    "    \" Fiber (g)\": \"Fiber_g\",\n",
    "    \" Protein (g)\": \"Protein_g\"\n",
    "}, inplace=True)\n",
    "\n",
    "#Cek Hasil Setelah Revisi Kolom\n",
    "print(\"Kolom setelah pembersihan:\")\n",
    "print(df.columns, \"\\n\")\n",
    "\n",
    "#Tampilkan 5 Data Pertama\n",
    "print(\"Contoh data:\")\n",
    "print(df.head(), \"\\n\")\n",
    "\n",
    "#Cek Tipe Data Setelah Renaming\n",
    "print(\"Tipe data per kolom:\")\n",
    "print(df.dtypes)"
   ]
  },
  {
   "cell_type": "markdown",
   "id": "a429c471",
   "metadata": {},
   "source": [
    "Penjelasan kode dibawah:\n",
    "===\n",
    "\n",
    "1. sqlite3.connect(\"starbucks.db\") → **membuat (atau membuka) database bernama starbucks.db.**\n",
    "\n",
    "2. df.to_sql(\"menu\", conn, if_exists=\"replace\", index=False) → menyimpan ***DataFrame* df ke tabel bernama menu di dalam database**.\n",
    "\n",
    "3. print() → **menampilkan pesan** konfirmasi bahwa data berhasil tersimpan.\n",
    "\n",
    "Tujuan memindahkan dataset ke dalam database SQL lokal (SQLite), membuat data siap untuk dianalisis menggunakan *query* SQL langsung di Python.\n",
    "\n"
   ]
  },
  {
   "cell_type": "code",
   "execution_count": 6,
   "id": "93a9e090",
   "metadata": {},
   "outputs": [
    {
     "name": "stdout",
     "output_type": "stream",
     "text": [
      "\n",
      "Data stored in SQLite database: 'starbucks.db'\n"
     ]
    }
   ],
   "source": [
    "#SQLite Database \n",
    "conn = sqlite3.connect(\"starbucks.db\")\n",
    "df.to_sql(\"menu\", conn, if_exists=\"replace\", index=False)\n",
    "print(\"\\nData stored in SQLite database: 'starbucks.db'\")"
   ]
  },
  {
   "cell_type": "markdown",
   "id": "e92a1439",
   "metadata": {},
   "source": [
    "Memastikan bahwa data dari DataFrame sudah tersimpan sepenuhnya ke dalam tabel SQLite untuk verifikasi sebelum analisis SQL dilanjutkan."
   ]
  },
  {
   "cell_type": "code",
   "execution_count": 7,
   "id": "5a78dbbb",
   "metadata": {},
   "outputs": [
    {
     "name": "stdout",
     "output_type": "stream",
     "text": [
      "Jumlah baris dalam tabel:\n",
      "   total\n",
      "0    113 \n",
      "\n"
     ]
    }
   ],
   "source": [
    "print(\"Jumlah baris dalam tabel:\")\n",
    "print(pd.read_sql_query(\"SELECT COUNT(*) as total FROM menu;\", conn), \"\\n\")\n"
   ]
  },
  {
   "cell_type": "markdown",
   "id": "d22b41ba",
   "metadata": {},
   "source": [
    "Penjelasan kode dibawah:\n",
    "===\n",
    "\n",
    "1. sqlite3.connect(\"starbucks.db\") → membuka koneksi ke database starbucks.db (**koneksi ulang**).\n",
    "\n",
    "2. PRAGMA table_info(menu); → perintah khusus di SQLite untuk **menampilkan struktur tabel, yaitu daftar kolom beserta tipe data dan informasi lainnya**.\n",
    "\n",
    "3. pd.read_sql_query(query, conn) → menjalankan *query* dan **menampilkan hasilnya dalam bentuk DataFrame**.\n",
    "\n",
    "4. conn.close() → **menutup koneksi setelah *query* selesai dijalankan** (praktik yang baik untuk menjaga efisiensi dan keamanan koneksi database).\n",
    "\n",
    "Untuk memverifikasi struktur tabel menu di database, memastikan semua kolom dari dataset telah tersimpan dengan benar di SQLite sebelum melanjutkan analisis SQL."
   ]
  },
  {
   "cell_type": "code",
   "execution_count": 8,
   "id": "9eac9f23",
   "metadata": {},
   "outputs": [
    {
     "name": "stdout",
     "output_type": "stream",
     "text": [
      "   cid       name     type  notnull dflt_value  pk\n",
      "0    0       Item     TEXT        0       None   0\n",
      "1    1   Calories  INTEGER        0       None   0\n",
      "2    2      Fat_g     REAL        0       None   0\n",
      "3    3     Carb_g  INTEGER        0       None   0\n",
      "4    4    Fiber_g  INTEGER        0       None   0\n",
      "5    5  Protein_g  INTEGER        0       None   0\n"
     ]
    }
   ],
   "source": [
    "conn = sqlite3.connect(\"starbucks.db\")\n",
    "\n",
    "# Lihat daftar kolom yang ada di tabel 'menu'\n",
    "query = \"PRAGMA table_info(menu);\"\n",
    "columns = pd.read_sql_query(query, conn)\n",
    "print(columns)\n",
    "\n",
    "conn.close()"
   ]
  },
  {
   "cell_type": "markdown",
   "id": "1250a676",
   "metadata": {},
   "source": [
    "Penjelasan kode dibawah:\n",
    "===\n",
    "\n",
    "-sqlite3.connect(\"starbucks.db\") → membuka koneksi ke database starbucks.db (**koneksi ulang**).\n",
    "\n",
    "-*Query* SQL **menghitung rata-rata** kalori, lemak, karbohidrat, dan protein dari seluruh menu di tabel menu.\n",
    "\n",
    "1. AVG() → menghitung nilai **rata-rata**.\n",
    "\n",
    "2. ROUND(..., 2) → **membulatkan hasil rata-rata hingga dua angka** di belakang koma agar tampil rapi.\n",
    "\n",
    "-pd.read_sql_query(query, conn) → **menjalankan *query* SQL dan menyimpan hasilnya dalam bentuk DataFrame avg_nutrition**.\n",
    "\n",
    "-avg_nutrition.to_string(index=False) → **menampilkan hasil** tanpa indeks agar *output* terlihat lebih bersih.\n",
    "\n",
    "-conn.close() → **menutup koneksi** database setelah proses selesai.\n",
    "\n",
    "Untuk menghitung rata-rata kandungan nutrisi menu Starbucks, memberikan gambaran umum tentang seberapa tinggi nilai gizi rata-rata di seluruh menu."
   ]
  },
  {
   "cell_type": "code",
   "execution_count": 9,
   "id": "63d1608f",
   "metadata": {},
   "outputs": [
    {
     "name": "stdout",
     "output_type": "stream",
     "text": [
      "Rata-rata Kandungan Nutrisi Menu Starbucks:\n",
      " avg_calories  avg_fat  avg_carb  avg_protein\n",
      "       356.64    16.35     41.49        11.47\n"
     ]
    }
   ],
   "source": [
    "#Hubungkan ke database SQLite\n",
    "conn = sqlite3.connect(\"starbucks.db\")\n",
    "\n",
    "#Query: Analisis Dasar Rata-rata Nutrisi\n",
    "query = \"\"\"\n",
    "SELECT \n",
    "    ROUND(AVG(Calories), 2) AS avg_calories,\n",
    "    ROUND(AVG(Fat_g), 2) AS avg_fat,\n",
    "    ROUND(AVG(Carb_g), 2) AS avg_carb,\n",
    "    ROUND(AVG(Protein_g), 2) AS avg_protein\n",
    "FROM menu;\n",
    "\"\"\"\n",
    "\n",
    "#Jalankan query dan simpan hasilnya\n",
    "avg_nutrition = pd.read_sql_query(query, conn)\n",
    "\n",
    "#Tampilkan hasil\n",
    "print(\"Rata-rata Kandungan Nutrisi Menu Starbucks:\")\n",
    "print(avg_nutrition.to_string(index=False))\n",
    "\n",
    "#Tutup koneksi\n",
    "conn.close()"
   ]
  },
  {
   "cell_type": "markdown",
   "id": "c934ff7e",
   "metadata": {},
   "source": [
    "Penjelasan kode dibawah:\n",
    "===\n",
    "-sqlite3.connect(\"starbucks.db\") → membuka koneksi ke database starbucks.db (**koneksi ulang**).\n",
    "\n",
    "-*Query* SQL mengambil kolom Item, Calories, Fat_g, Carb_g, dan Protein_g dari tabel menu, lalu:\n",
    "\n",
    "1. ORDER BY Calories DESC → **mengurutkan menu** berdasarkan kalori tertinggi ke terendah.\n",
    "\n",
    "2. LIMIT 5 → hanya **menampilkan 5 menu teratas**.\n",
    "\n",
    "-pd.read_sql_query() → **mengeksekusi *query*** dan mengubah hasilnya menjadi *DataFrame*.\n",
    "\n",
    "-tabulate() → **menampilkan hasil** dengan tampilan tabel yang rapi di *console* (format \"fancy_grid\" menambah estetika output).\n",
    "\n",
    "-conn.close() → **menutup koneksi** database setelah *query* selesai dijalankan.\n",
    "\n",
    "untuk mengidentifikasi menu dengan kalori tertinggi di Starbucks, membantu memahami produk mana yang paling tinggi kandungan energinya."
   ]
  },
  {
   "cell_type": "code",
   "execution_count": null,
   "id": "ff93ec1f",
   "metadata": {},
   "outputs": [
    {
     "name": "stdout",
     "output_type": "stream",
     "text": [
      "MENU DENGAN KALORI TERTINGGI\n",
      "\n",
      "╒══════════════════════════════════════════════════╤══════════╤═════════════╤═════════════╤═══════════════╕\n",
      "│ Item                                             │   Kalori │   Lemak (g) │   Karbo (g) │   Protein (g) │\n",
      "╞══════════════════════════════════════════════════╪══════════╪═════════════╪═════════════╪═══════════════╡\n",
      "│ Lentils & Vegetable Protein Bowl with Brown Rice │      650 │          29 │          80 │            23 │\n",
      "├──────────────────────────────────────────────────┼──────────┼─────────────┼─────────────┼───────────────┤\n",
      "│ Green Goddess Avocado Salad                      │      620 │          37 │          62 │            13 │\n",
      "├──────────────────────────────────────────────────┼──────────┼─────────────┼─────────────┼───────────────┤\n",
      "│ Strawberries & Jam Sandwich                      │      600 │          25 │          80 │            19 │\n",
      "├──────────────────────────────────────────────────┼──────────┼─────────────┼─────────────┼───────────────┤\n",
      "│ Roasted Turkey & Dill Havarti Sandwich           │      600 │          32 │          47 │            32 │\n",
      "├──────────────────────────────────────────────────┼──────────┼─────────────┼─────────────┼───────────────┤\n",
      "│ Za'atar Chicken & Lemon Tahini Salad             │      570 │          23 │          67 │            27 │\n",
      "╘══════════════════════════════════════════════════╧══════════╧═════════════╧═════════════╧═══════════════╛\n"
     ]
    }
   ],
   "source": [
    "# Buat koneksi ulang\n",
    "conn = sqlite3.connect(\"starbucks.db\")\n",
    "\n",
    "# Query: Menu dengan Kalori Tertinggi\n",
    "query = \"\"\"\n",
    "SELECT Item, Calories, Fat_g, Carb_g, Protein_g\n",
    "FROM menu\n",
    "ORDER BY Calories DESC\n",
    "LIMIT 5;\n",
    "\"\"\"\n",
    "\n",
    "# Jalankan query dan simpan hasilnya ke DataFrame\n",
    "top_calories = pd.read_sql_query(query, conn)\n",
    "\n",
    "# Tampilkan hasil dalam format tabel yang rapi\n",
    "print(\"MENU DENGAN KALORI TERTINGG\\n\")\n",
    "print(tabulate(\n",
    "    top_calories,\n",
    "    headers=[\"Item\", \"Kalori\", \"Lemak (g)\", \"Karbo (g)\", \"Protein (g)\"],\n",
    "    tablefmt=\"fancy_grid\",\n",
    "    showindex=False\n",
    "))\n",
    "\n",
    "# Tutup koneksi\n",
    "conn.close()"
   ]
  },
  {
   "cell_type": "markdown",
   "id": "67e21e86",
   "metadata": {},
   "source": [
    "Penjelasan kode dibawah:\n",
    "===\n",
    "\n",
    "sqlite3.connect(\"starbucks.db\") → membuka koneksi ke database starbucks.db (**koneksi ulang**).\n",
    "\n",
    "Query SQL:\n",
    "\n",
    "1. SELECT **memilih kolom** Item, Calories, dan Fat_g.\n",
    "\n",
    "2. Kolom diberi alias agar nama tampil lebih rapi saat dicetak (Calories AS 'Kalori', Fat_g AS 'Lemak (g)').\n",
    "\n",
    "3. ORDER BY Fat_g DESC **mengurutkan data** berdasarkan nilai lemak tertinggi ke terendah.\n",
    "\n",
    "4. LIMIT 5 **hanya menampilkan 5 menu teratas**.\n",
    "\n",
    "pd.read_sql_query() → **menjalankan *query* SQL dan menyimpan hasilnya** dalam *DataFrame* top_fat.\n",
    "\n",
    "tabulate() → **menampilkan hasilnya dalam bentuk tabel**.\n",
    "\n",
    "Untuk mengidentifikasi menu dengan kadar lemak tertinggi di Starbucks, membantu memahami produk mana yang paling tinggi kandungan lemaknya."
   ]
  },
  {
   "cell_type": "code",
   "execution_count": 13,
   "id": "6167ba53",
   "metadata": {},
   "outputs": [
    {
     "name": "stdout",
     "output_type": "stream",
     "text": [
      "\n",
      "MENU DENGAN LEMAK TERTINGGI\n",
      "\n",
      "╒═══════════════════════════════════════════════════════╤══════════╤═════════════╕\n",
      "│ Item                                                  │   Kalori │   Lemak (g) │\n",
      "╞═══════════════════════════════════════════════════════╪══════════╪═════════════╡\n",
      "│ Green Goddess Avocado Salad                           │      620 │          37 │\n",
      "├───────────────────────────────────────────────────────┼──────────┼─────────────┤\n",
      "│ Roasted Turkey & Dill Havarti Sandwich                │      600 │          32 │\n",
      "├───────────────────────────────────────────────────────┼──────────┼─────────────┤\n",
      "│ Spicy Chorizo  Monterey Jack & Egg Breakfast Sandwich │      500 │          30 │\n",
      "├───────────────────────────────────────────────────────┼──────────┼─────────────┤\n",
      "│ Farmers' Market Protein Box                           │      470 │          29 │\n",
      "├───────────────────────────────────────────────────────┼──────────┼─────────────┤\n",
      "│ Seared Steak & Cheddar Sandwich                       │      530 │          29 │\n",
      "╘═══════════════════════════════════════════════════════╧══════════╧═════════════╛\n"
     ]
    }
   ],
   "source": [
    "conn = sqlite3.connect(\"starbucks.db\")\n",
    "\n",
    "#Menu dengan Lemak Tertinggi\n",
    "query_fat = \"\"\"\n",
    "SELECT Item, Calories AS 'Kalori', Fat_g AS 'Lemak (g)'\n",
    "FROM menu\n",
    "ORDER BY Fat_g DESC\n",
    "LIMIT 5;\n",
    "\"\"\"\n",
    "top_fat = pd.read_sql_query(query_fat, conn)\n",
    "\n",
    "print(\"\\nMENU DENGAN LEMAK TERTINGGI\\n\")\n",
    "print(tabulate(top_fat, headers='keys', tablefmt='fancy_grid', showindex=False))\n"
   ]
  },
  {
   "cell_type": "markdown",
   "id": "076b4b5c",
   "metadata": {},
   "source": [
    "Penjelasan kode dibawah:\n",
    "===\n",
    "\n",
    "-Query SQL:\n",
    "\n",
    "1. SELECT **memilih kolom** Item, Calories, dan Protein_g.\n",
    "\n",
    "2. Menggunakan alias agar nama kolom tampil lebih deskriptif ('Kalori' dan 'Protein (g)').\n",
    "\n",
    "3. ORDER BY Protein_g DESC → **mengurutkan data** berdasarkan nilai protein dari tertinggi ke terendah.\n",
    "\n",
    "4. LIMIT 5 → hanya menampilkan lima menu dengan protein terbanyak.\n",
    "\n",
    "-pd.read_sql_query() → **menjalankan *query* dan menyimpan hasil** ke *DataFrame* top_protein.\n",
    "\n",
    "-tabulate() → **menampilkan hasilnya dalam format tabel** dengan gaya \"fancy_grid\".\n",
    "\n",
    "untuk mengidentifikasi menu dengan kandungan protein tertinggi, memberikan insight tentang pilihan menu Starbucks yang paling kaya protein."
   ]
  },
  {
   "cell_type": "code",
   "execution_count": 22,
   "id": "fad384f7",
   "metadata": {},
   "outputs": [
    {
     "name": "stdout",
     "output_type": "stream",
     "text": [
      "\n",
      " MENU DENGAN PROTEIN TERTINGGI\n",
      "\n",
      "╒═══════════════════════════════════════════════════════════╤══════════╤═══════════════╕\n",
      "│ Item                                                      │   Kalori │   Protein (g) │\n",
      "╞═══════════════════════════════════════════════════════════╪══════════╪═══════════════╡\n",
      "│ Turkey Pesto Panini                                       │      560 │            34 │\n",
      "├───────────────────────────────────────────────────────────┼──────────┼───────────────┤\n",
      "│ Roasted Turkey & Dill Havarti Sandwich                    │      600 │            32 │\n",
      "├───────────────────────────────────────────────────────────┼──────────┼───────────────┤\n",
      "│ Turkey & Havarti Sandwich                                 │      460 │            29 │\n",
      "├───────────────────────────────────────────────────────────┼──────────┼───────────────┤\n",
      "│ Za'atar Chicken & Lemon Tahini Salad                      │      570 │            27 │\n",
      "├───────────────────────────────────────────────────────────┼──────────┼───────────────┤\n",
      "│ Chicken & Quinoa Protein Bowl with Black Beans and Greens │      420 │            27 │\n",
      "╘═══════════════════════════════════════════════════════════╧══════════╧═══════════════╛\n"
     ]
    }
   ],
   "source": [
    "#Menu dengan Protein Tertinggi\n",
    "query_protein = \"\"\"\n",
    "SELECT Item, Calories AS 'Kalori', Protein_g AS 'Protein (g)'\n",
    "FROM menu\n",
    "ORDER BY Protein_g DESC\n",
    "LIMIT 5;\n",
    "\"\"\"\n",
    "top_protein = pd.read_sql_query(query_protein, conn)\n",
    "\n",
    "print(\"\\n MENU DENGAN PROTEIN TERTINGGI\\n\")\n",
    "print(tabulate(top_protein, headers='keys', tablefmt='fancy_grid', showindex=False))"
   ]
  },
  {
   "cell_type": "markdown",
   "id": "85553dc9",
   "metadata": {},
   "source": [
    "Penjelasan kode dibawah\n",
    "===\n",
    "\n",
    "-Ambil data dari database SQLite = Mengambil kolom Calories, Fat_g, Carb_g, dan Protein_g dari tabel menu.\n",
    "\n",
    "-Hitung korelasi antarvariabel\n",
    "\n",
    "1. Fungsi df.corr() **menghitung koefisien korelasi *Pearson***, yang mengukur seberapa kuat dua variabel saling berhubungan.\n",
    "\n",
    "2. Nilai korelasi berada di antara -1 hingga 1: 1 → hubungan positif sempurna; 0 → tidak ada hubungan; -1 → hubungan negatif sempurna\n",
    "\n",
    "-tabulate() **membuat tampilan tabel**.\n",
    "\n",
    "-Menggunakan *heatmap* (sns.heatmap) agar **hubungan antar-nutrisi lebih mudah dibaca secara visual**.\n",
    "\n",
    "untuk melihat hubungan antara kalori dan kandungan nutrisi lain"
   ]
  },
  {
   "cell_type": "code",
   "execution_count": 21,
   "id": "b65a9db4",
   "metadata": {},
   "outputs": [
    {
     "name": "stdout",
     "output_type": "stream",
     "text": [
      "\n",
      "KORELASI ANTAR NUTRISI\n",
      "\n",
      "╒═══════════╤════════════╤═════════╤══════════╤═════════════╕\n",
      "│           │   Calories │   Fat_g │   Carb_g │   Protein_g │\n",
      "╞═══════════╪════════════╪═════════╪══════════╪═════════════╡\n",
      "│ Calories  │       1.00 │    0.83 │     0.71 │        0.62 │\n",
      "├───────────┼────────────┼─────────┼──────────┼─────────────┤\n",
      "│ Fat_g     │       0.83 │    1.00 │     0.28 │        0.42 │\n",
      "├───────────┼────────────┼─────────┼──────────┼─────────────┤\n",
      "│ Carb_g    │       0.71 │    0.28 │     1.00 │        0.20 │\n",
      "├───────────┼────────────┼─────────┼──────────┼─────────────┤\n",
      "│ Protein_g │       0.62 │    0.42 │     0.20 │        1.00 │\n",
      "╘═══════════╧════════════╧═════════╧══════════╧═════════════╛\n"
     ]
    },
    {
     "data": {
      "image/png": "[encoded data removed]",
      "text/plain": [
       "<Figure size 1000x600 with 2 Axes>"
      ]
     },
     "metadata": {},
     "output_type": "display_data"
    }
   ],
   "source": [
    "conn = sqlite3.connect(\"starbucks.db\")\n",
    "\n",
    "# Korelasi Kalori dengan Nutrisi Lain\n",
    "print(\"\\nKORELASI ANTAR NUTRISI\\n\")\n",
    "\n",
    "# Ambil data dari database\n",
    "df = pd.read_sql_query(\"SELECT Calories, Fat_g, Carb_g, Protein_g FROM menu\", conn)\n",
    "\n",
    "# Hitung korelasi\n",
    "corr = df.corr()\n",
    "\n",
    "# Tampilkan matriks korelasi dalam bentuk tabel\n",
    "print(tabulate(corr, headers='keys', tablefmt='fancy_grid', floatfmt=\".2f\"))\n",
    "\n",
    "# Visualisasi heatmap\n",
    "plt.figure(figsize=(10,6))\n",
    "sns.heatmap(corr, annot=True, cmap='YlGnBu', fmt=\".2f\")\n",
    "plt.title(\"Korelasi Antar Nutrisi\", fontweight='bold', fontsize=14, pad=10)\n",
    "plt.show()\n"
   ]
  },
  {
   "cell_type": "markdown",
   "id": "e10efce4",
   "metadata": {},
   "source": [
    "Insight utama dari hasil yang diperoleh\n",
    "==========\n",
    "\n",
    "1. Lemak memiliki pengaruh terbesar terhadap total kalori (r = 0.83).\n",
    "Ini menunjukkan bahwa mayoritas menu tinggi kalori di Starbucks cenderung juga tinggi lemak.\n",
    "\n",
    "2. Karbohidrat juga berperan penting (r = 0.71), terutama pada menu minuman manis dan bakery.\n",
    "\n",
    "3. Protein memiliki kontribusi sedang (r = 0.62), umum pada menu makanan seperti sandwich atau breakfast items.\n",
    "\n",
    "Dari analisis korelasi, ditemukan bahwa **kandungan kalori menu Starbucks paling dipengaruhi oleh kadar lemak dan karbohidrat**. Hal ini menggambarkan bahwa **menu berkalori tinggi umumnya berasal dari bahan yang kaya lemak dan gula**. Visualisasi heatmap memperkuat pola ini, memberikan gambaran jelas tentang hubungan antar-nutrisi dalam menu Starbucks.\n",
    "\n"
   ]
  },
  {
   "cell_type": "markdown",
   "id": "55c21687",
   "metadata": {},
   "source": [
    "Penjelasan Kode Dibawah:\n",
    "====\n",
    "\n",
    "-Kriteria keseimbangan nutrisi:\n",
    "\n",
    "1. Calories BETWEEN 300 AND 450 → **memilih menu dengan kalori sedang** (tidak terlalu tinggi).\n",
    "\n",
    "2. Protein_g >= 15 → hanya**mengambil menu dengan protein minimal 15 gram**.\n",
    "\n",
    "3. Fat_g <= 15 → **memastikan kandungan lemak tetap rendah**.\n",
    "\n",
    "-ORDER BY Protein_g DESC → **mengurutkan hasil** berdasarkan kadar protein tertinggi.\n",
    "\n",
    "-pd.read_sql_query() → menjalankan *query* dan menyimpan hasilnya ke *DataFrame* balanced_menu.\n",
    "\n",
    "-if balanced_menu.empty → menambahkan error *handling*, **jadi kalau tidak ada menu yang cocok, program tetap menampilkan pesan**.\n",
    "\n",
    "-tabulate() → membuat tampilan tabel."
   ]
  },
  {
   "cell_type": "code",
   "execution_count": 32,
   "id": "0cc42f6e",
   "metadata": {},
   "outputs": [
    {
     "name": "stdout",
     "output_type": "stream",
     "text": [
      "\n",
      "MENU 'SEIMBANG' (Kalori Sedang, Protein Tinggi, Lemak Rendah)\n",
      "\n",
      "╒════════════════════════════════════════════╤══════════╤═════════════╤═══════════════╕\n",
      "│ Item                                       │   Kalori │   Lemak (g) │   Protein (g) │\n",
      "╞════════════════════════════════════════════╪══════════╪═════════════╪═══════════════╡\n",
      "│ Smoked Turkey Protein Box                  │      360 │          12 │            24 │\n",
      "├────────────────────────────────────────────┼──────────┼─────────────┼───────────────┤\n",
      "│ Honey BBQ Sriracha Chicken Sandwich        │      360 │           7 │            22 │\n",
      "├────────────────────────────────────────────┼──────────┼─────────────┼───────────────┤\n",
      "│ Herbed Chicken & Fig Spread Small Sandwich │      300 │           8 │            19 │\n",
      "├────────────────────────────────────────────┼──────────┼─────────────┼───────────────┤\n",
      "│ Lemon Chiffon Yogurt                       │      340 │          13 │            18 │\n",
      "├────────────────────────────────────────────┼──────────┼─────────────┼───────────────┤\n",
      "│ Multigrain Bagel                           │      350 │           4 │            17 │\n",
      "╘════════════════════════════════════════════╧══════════╧═════════════╧═══════════════╛\n"
     ]
    }
   ],
   "source": [
    "query_balanced = \"\"\"\n",
    "SELECT Item, Calories AS 'Kalori', Fat_g AS 'Lemak (g)', Protein_g AS 'Protein (g)'\n",
    "FROM menu\n",
    "WHERE Calories BETWEEN 300 AND 450\n",
    "  AND Protein_g >= 15\n",
    "  AND Fat_g <= 15\n",
    "ORDER BY Protein_g DESC;\n",
    "\"\"\"\n",
    "balanced_menu = pd.read_sql_query(query_balanced, conn)\n",
    "\n",
    "print(\"\\nMENU 'SEIMBANG' (Kalori Sedang, Protein Tinggi, Lemak Rendah)\\n\")\n",
    "if balanced_menu.empty:\n",
    "    print(\"Tidak ada menu yang memenuhi kriteria keseimbangan nutrisi ini.\")\n",
    "else:\n",
    "    print(tabulate(balanced_menu, headers='keys', tablefmt='fancy_grid', showindex=False))\n"
   ]
  },
  {
   "cell_type": "markdown",
   "id": "bd9f0499",
   "metadata": {},
   "source": [
    "Analisis ini bertujuan untuk menemukan menu Starbucks yang **memiliki keseimbangan antara kalori, protein, dan lemak, cocok untuk pelanggan yang ingin menjaga asupan gizi tanpa mengorbankan rasa**\n",
    ".\n"
   ]
  },
  {
   "cell_type": "markdown",
   "id": "b6f9c28c",
   "metadata": {},
   "source": [
    "Penjelasan kode dibawah:\n",
    "=====\n",
    "\n",
    "1. CAST(Protein_g AS FLOAT) → **mengubah nilai protein menjadi tipe numerik *float* agar bisa dibagi dengan benar**.\n",
    "\n",
    "2. Protein_g / Calories → **menghitung rasio protein per kalori**, menggambarkan seberapa “padat gizi” suatu menu.\n",
    "\n",
    "3. ROUND(..., 3) →**membulatkan hasil** hingga 3 angka desimal agar lebih rapi.\n",
    "\n",
    "4. ORDER BY Protein_per_Calorie DESC → **mengurutkan dari yang paling efisien** (protein terbanyak per kalori).\n",
    "\n",
    "5. LIMIT 5 → menampilkan 5 menu terbaik berdasarkan efisiensi nutrisi.\n",
    "\n",
    "6. tabulate() → menampilkan hasil dalam tabel.\n"
   ]
  },
  {
   "cell_type": "code",
   "execution_count": null,
   "id": "64ca4c88",
   "metadata": {},
   "outputs": [
    {
     "name": "stdout",
     "output_type": "stream",
     "text": [
      "\n",
      "RANKING MENU BERDASARKAN EFISIENSI PROTEIN PER KALORI\n",
      "\n",
      "╒═══════════════════════════════════════════════════════════════════╤═══════════════╤══════════╤═══════════════════════╕\n",
      "│ Item                                                              │   Protein (g) │   Kalori │   Protein_per_Calorie │\n",
      "╞═══════════════════════════════════════════════════════════════════╪═══════════════╪══════════╪═══════════════════════╡\n",
      "│ Sous Vide Egg Bites: Egg White & Red Pepper                       │            13 │      170 │                 0.076 │\n",
      "├───────────────────────────────────────────────────────────────────┼───────────────┼──────────┼───────────────────────┤\n",
      "│ Reduced-Fat Turkey Bacon & Cage Free Egg White Breakfast Sandwich │            16 │      230 │                 0.07  │\n",
      "├───────────────────────────────────────────────────────────────────┼───────────────┼──────────┼───────────────────────┤\n",
      "│ Smoked Turkey Protein Box                                         │            24 │      360 │                 0.067 │\n",
      "├───────────────────────────────────────────────────────────────────┼───────────────┼──────────┼───────────────────────┤\n",
      "│ Spinach Feta & Cage Free Egg White Breakfast Wrap                 │            19 │      290 │                 0.066 │\n",
      "├───────────────────────────────────────────────────────────────────┼───────────────┼──────────┼───────────────────────┤\n",
      "│ Certified Gluten-Free Breakfast Sandwich                          │            18 │      280 │                 0.064 │\n",
      "╘═══════════════════════════════════════════════════════════════════╧═══════════════╧══════════╧═══════════════════════╛\n"
     ]
    }
   ],
   "source": [
    "# Ranking Nutrisi Berdasarkan Efisiensi (Protein per Kalori)\n",
    "query_efficiency = \"\"\"\n",
    "SELECT \n",
    "    Item, \n",
    "    Protein_g AS 'Protein (g)', \n",
    "    Calories AS 'Kalori',\n",
    "    ROUND(CAST(Protein_g AS FLOAT) / Calories, 3) AS 'Protein_per_Calorie'\n",
    "FROM menu\n",
    "ORDER BY Protein_per_Calorie DESC\n",
    "LIMIT 5;\n",
    "\"\"\"\n",
    "efficient_menu = pd.read_sql_query(query_efficiency, conn)\n",
    "\n",
    "print(\"\\nRANKING MENU BERDASARKAN EFISIENSI PROTEIN PER KALORI\\n\")\n",
    "print(tabulate(efficient_menu, headers='keys', tablefmt='fan cy_grid', showindex=False))"
   ]
  },
  {
   "cell_type": "markdown",
   "id": "88c03dab",
   "metadata": {},
   "source": [
    "Analisis ini menunjukkan pendekatan data-driven untuk memahami nilai gizi menu Starbucks.\n",
    "Dengan **membandingkan rasio protein terhadap kalori, kita bisa mengidentifikasi menu yang memberi asupan protein optimal tanpa menambah banyak kalori**, ideal bagi pelanggan yang memperhatikan keseimbangan nutrisi\n",
    "\n",
    "Insight Analisis\n",
    "====\n",
    "\n",
    "1. Menu Sous Vide Egg Bites: Egg White & Red Pepper menempati posisi teratas dengan rasio 0.076, artinya **setiap 1 kalori yang dikonsumsi memberikan kontribusi protein paling tinggi**.\n",
    "\n",
    "2. Semua menu di daftar ini **memiliki fokus pada bahan rendah lemak dan tinggi protein**, cocok untuk pola makan sehat atau high-protein diet.\n",
    "\n",
    "3. Menu seperti Turkey Bacon Sandwich dan Protein Box menunjukkan bahwa **makanan siap saji juga bisa bernilai gizi tinggi bila dikombinasikan dengan cermat**."
   ]
  },
  {
   "cell_type": "markdown",
   "id": "79a79a70",
   "metadata": {},
   "source": [
    "Penjelasan kode dibawah:\n",
    "====\n",
    "\n",
    "-plt.figure(figsize=(10,6)) → mengatur ukuran gambar agar tampil proporsional dan mudah dibaca.\n",
    "\n",
    "-sns.histplot() → **membuat histogram** untuk menampilkan sebaran nilai kalori:\n",
    "\n",
    "1. bins=15 → **membagi rentang kalori menjadi 15 kelompok.**\n",
    "\n",
    "2. kde=True → menambahkan Kernel *Density Estimate* (garis halus) untuk **memperlihatkan bentuk distribusi data**.\n",
    "\n",
    "3. color='skyblue' → **memberi warna lembut** agar visual enak dilihat.\n",
    "\n",
    "-Label dan judul → memberi konteks jelas tentang makna grafik."
   ]
  },
  {
   "cell_type": "code",
   "execution_count": 20,
   "id": "567ec346",
   "metadata": {},
   "outputs": [
    {
     "data": {
      "image/png": "[encoded data removed]",
      "text/plain": [
       "<Figure size 1000x600 with 1 Axes>"
      ]
     },
     "metadata": {},
     "output_type": "display_data"
    }
   ],
   "source": [
    "plt.figure(figsize=(10,6))\n",
    "sns.histplot(df['Calories'], bins=15, kde=True, color='skyblue')\n",
    "plt.title(\"Distribusi Kalori pada Menu Starbucks\", fontsize=14, fontweight='bold')\n",
    "plt.xlabel(\"Kalori\")\n",
    "plt.ylabel(\"Jumlah Menu\")\n",
    "plt.show()"
   ]
  },
  {
   "cell_type": "code",
   "execution_count": 40,
   "id": "259c2822",
   "metadata": {},
   "outputs": [
    {
     "name": "stdout",
     "output_type": "stream",
     "text": [
      "Index(['Item', 'Calories', 'Fat_g', 'Carb_g', 'Fiber_g', 'Protein_g'], dtype='object')\n"
     ]
    }
   ],
   "source": [
    "# Buka koneksi ke database\n",
    "conn = sqlite3.connect(\"starbucks.db\")\n",
    "\n",
    "# Ambil data lengkap (termasuk kolom Item)\n",
    "df = pd.read_sql_query(\"SELECT * FROM menu\", conn)\n",
    "conn.close()\n",
    "\n",
    "# Pastikan kolom sudah lengkap\n",
    "print(df.columns)"
   ]
  },
  {
   "cell_type": "markdown",
   "id": "7a598b08",
   "metadata": {},
   "source": [
    "Penjelasan kode dibawah:\n",
    "===\n",
    "\n",
    "1. df.nlargest(10, 'Calories') →mengambil 10 menu dengan kalori tertinggi dari dataset.\n",
    "\n",
    "2. sns.barplot() → **membuat horizontal bar chart dengan warna gradasi merah** (palette='Reds_r'), cocok untuk menonjolkan nilai tinggi.\n",
    "\n",
    "3. plt.text() → **menambahkan label angka kalori di ujung setiap bar**, supaya hasilnya lebih jelas dan mudah dibaca."
   ]
  },
  {
   "cell_type": "code",
   "execution_count": 42,
   "id": "88ffc8f8",
   "metadata": {},
   "outputs": [
    {
     "name": "stderr",
     "output_type": "stream",
     "text": [
      "C:\\Users\\Acer\\AppData\\Local\\Temp\\ipykernel_17920\\2899710400.py:6: FutureWarning: \n",
      "\n",
      "Passing `palette` without assigning `hue` is deprecated and will be removed in v0.14.0. Assign the `y` variable to `hue` and set `legend=False` for the same effect.\n",
      "\n",
      "  sns.barplot(y='Item', x='Calories', data=top10_cal, palette='Reds_r')\n"
     ]
    },
    {
     "data": {
      "image/png": "[encoded data removed]",
      "text/plain": [
       "<Figure size 1000x600 with 1 Axes>"
      ]
     },
     "metadata": {},
     "output_type": "display_data"
    }
   ],
   "source": [
    "# Ambil 10 menu dengan kalori tertinggi\n",
    "top10_cal = df.nlargest(10, 'Calories')[['Item', 'Calories']]\n",
    "\n",
    "# Plot\n",
    "plt.figure(figsize=(10,6))\n",
    "sns.barplot(y='Item', x='Calories', data=top10_cal, palette='Reds_r')\n",
    "\n",
    "# Judul & label\n",
    "plt.title(\"Top 10 Menu dengan Kalori Tertinggi di Starbucks\", fontsize=14, weight='bold')\n",
    "plt.xlabel(\"Kalori\", fontsize=12)\n",
    "plt.ylabel(\"Nama Menu\", fontsize=12)\n",
    "\n",
    "# Tambahkan nilai di ujung bar\n",
    "for index, value in enumerate(top10_cal['Calories']):\n",
    "    plt.text(value + 5, index, str(value), va='center', fontsize=10)\n",
    "\n",
    "plt.tight_layout()\n",
    "plt.show()"
   ]
  }
 ],
 "metadata": {
  "kernelspec": {
   "display_name": "Python 3",
   "language": "python",
   "name": "python3"
  },
  "language_info": {
   "codemirror_mode": {
    "name": "ipython",
    "version": 3
   },
   "file_extension": ".py",
   "mimetype": "text/x-python",
   "name": "python",
   "nbconvert_exporter": "python",
   "pygments_lexer": "ipython3",
   "version": "3.10.11"
  }
 },
 "nbformat": 4,
 "nbformat_minor": 5
}
